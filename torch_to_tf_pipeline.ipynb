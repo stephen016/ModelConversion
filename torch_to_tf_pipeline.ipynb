{
 "cells": [
  {
   "cell_type": "code",
   "execution_count": 5,
   "id": "2e0be8b0",
   "metadata": {},
   "outputs": [],
   "source": [
    "import torch\n",
    "import torch.nn as nn\n",
    "import torchvision\n",
    "import torchvision.datasets as datasets\n",
    "import torchvision.transforms as transforms\n",
    "from torch.utils.data import DataLoader\n",
    "import onnx\n",
    "from onnx_tf.backend import prepare\n",
    "from models.torch_models import LitCifarResnet\n",
    "from pytorch_lightning import Trainer\n",
    "from pytorch_lightning.callbacks.early_stopping import EarlyStopping\n",
    "from utils.data_loaders import get_cifar_loader\n",
    "import tensorflow as tf"
   ]
  },
  {
   "cell_type": "code",
   "execution_count": 6,
   "id": "fae0c2cc",
   "metadata": {},
   "outputs": [
    {
     "name": "stdout",
     "output_type": "stream",
     "text": [
      "1.13.0+cu116\n",
      "use device: cuda\n"
     ]
    }
   ],
   "source": [
    "# check torch version and device\n",
    "print(torch.__version__)\n",
    "device = \"cuda\" if torch.cuda.is_available() else \"cpu\"\n",
    "print(\"use device:\",device)\n",
    "print(\"TensorFlow version:\", tf.__version__)"
   ]
  },
  {
   "cell_type": "markdown",
   "id": "eb5c0aa9",
   "metadata": {},
   "source": [
    "# step 1 load pytorch model dataloader and train"
   ]
  },
  {
   "cell_type": "code",
   "execution_count": 7,
   "id": "4e8b9153",
   "metadata": {},
   "outputs": [
    {
     "name": "stdout",
     "output_type": "stream",
     "text": [
      "Files already downloaded and verified\n",
      "Files already downloaded and verified\n"
     ]
    },
    {
     "name": "stderr",
     "output_type": "stream",
     "text": [
      "GPU available: True (cuda), used: True\n",
      "TPU available: False, using: 0 TPU cores\n",
      "IPU available: False, using: 0 IPUs\n",
      "HPU available: False, using: 0 HPUs\n",
      "LOCAL_RANK: 0 - CUDA_VISIBLE_DEVICES: [0]\n",
      "\n",
      "  | Name      | Type     | Params\n",
      "---------------------------------------\n",
      "0 | model     | ResNet   | 11.2 M\n",
      "1 | test_acc  | Accuracy | 0     \n",
      "2 | valid_acc | Accuracy | 0     \n",
      "---------------------------------------\n",
      "11.2 M    Trainable params\n",
      "0         Non-trainable params\n",
      "11.2 M    Total params\n",
      "44.727    Total estimated model params size (MB)\n"
     ]
    },
    {
     "data": {
      "application/vnd.jupyter.widget-view+json": {
       "model_id": "",
       "version_major": 2,
       "version_minor": 0
      },
      "text/plain": [
       "Sanity Checking: 0it [00:00, ?it/s]"
      ]
     },
     "metadata": {},
     "output_type": "display_data"
    },
    {
     "data": {
      "application/vnd.jupyter.widget-view+json": {
       "model_id": "979cd64b49ff4640baa602066ecb127c",
       "version_major": 2,
       "version_minor": 0
      },
      "text/plain": [
       "Training: 0it [00:00, ?it/s]"
      ]
     },
     "metadata": {},
     "output_type": "display_data"
    },
    {
     "data": {
      "application/vnd.jupyter.widget-view+json": {
       "model_id": "",
       "version_major": 2,
       "version_minor": 0
      },
      "text/plain": [
       "Validation: 0it [00:00, ?it/s]"
      ]
     },
     "metadata": {},
     "output_type": "display_data"
    },
    {
     "data": {
      "application/vnd.jupyter.widget-view+json": {
       "model_id": "",
       "version_major": 2,
       "version_minor": 0
      },
      "text/plain": [
       "Validation: 0it [00:00, ?it/s]"
      ]
     },
     "metadata": {},
     "output_type": "display_data"
    },
    {
     "data": {
      "application/vnd.jupyter.widget-view+json": {
       "model_id": "",
       "version_major": 2,
       "version_minor": 0
      },
      "text/plain": [
       "Validation: 0it [00:00, ?it/s]"
      ]
     },
     "metadata": {},
     "output_type": "display_data"
    },
    {
     "data": {
      "application/vnd.jupyter.widget-view+json": {
       "model_id": "",
       "version_major": 2,
       "version_minor": 0
      },
      "text/plain": [
       "Validation: 0it [00:00, ?it/s]"
      ]
     },
     "metadata": {},
     "output_type": "display_data"
    },
    {
     "data": {
      "application/vnd.jupyter.widget-view+json": {
       "model_id": "",
       "version_major": 2,
       "version_minor": 0
      },
      "text/plain": [
       "Validation: 0it [00:00, ?it/s]"
      ]
     },
     "metadata": {},
     "output_type": "display_data"
    },
    {
     "data": {
      "application/vnd.jupyter.widget-view+json": {
       "model_id": "",
       "version_major": 2,
       "version_minor": 0
      },
      "text/plain": [
       "Validation: 0it [00:00, ?it/s]"
      ]
     },
     "metadata": {},
     "output_type": "display_data"
    },
    {
     "data": {
      "application/vnd.jupyter.widget-view+json": {
       "model_id": "",
       "version_major": 2,
       "version_minor": 0
      },
      "text/plain": [
       "Validation: 0it [00:00, ?it/s]"
      ]
     },
     "metadata": {},
     "output_type": "display_data"
    },
    {
     "data": {
      "application/vnd.jupyter.widget-view+json": {
       "model_id": "",
       "version_major": 2,
       "version_minor": 0
      },
      "text/plain": [
       "Validation: 0it [00:00, ?it/s]"
      ]
     },
     "metadata": {},
     "output_type": "display_data"
    },
    {
     "data": {
      "application/vnd.jupyter.widget-view+json": {
       "model_id": "",
       "version_major": 2,
       "version_minor": 0
      },
      "text/plain": [
       "Validation: 0it [00:00, ?it/s]"
      ]
     },
     "metadata": {},
     "output_type": "display_data"
    },
    {
     "data": {
      "application/vnd.jupyter.widget-view+json": {
       "model_id": "",
       "version_major": 2,
       "version_minor": 0
      },
      "text/plain": [
       "Validation: 0it [00:00, ?it/s]"
      ]
     },
     "metadata": {},
     "output_type": "display_data"
    },
    {
     "name": "stderr",
     "output_type": "stream",
     "text": [
      "`Trainer.fit` stopped: `max_epochs=10` reached.\n"
     ]
    }
   ],
   "source": [
    "train_loader,val_loader,test_loader = get_cifar_loader(batch_size=256)\n",
    "\n",
    "epochs=10\n",
    "early_stop_callback = EarlyStopping(monitor=\"val_acc\", min_delta=0.00, patience=5, verbose=False, mode=\"max\")\n",
    "\n",
    "trainer = Trainer(max_epochs=epochs,fast_dev_run=False,accelerator=\"gpu\",callbacks=[early_stop_callback])\n",
    "model = LitCifarResnet().to(device)\n",
    "\n",
    "trainer.fit(model,train_loader,test_loader)\n"
   ]
  },
  {
   "cell_type": "markdown",
   "id": "fb414522",
   "metadata": {},
   "source": [
    "# step 2 test pytorch model accuracy and save model"
   ]
  },
  {
   "cell_type": "code",
   "execution_count": 143,
   "id": "12a2255a",
   "metadata": {},
   "outputs": [
    {
     "name": "stderr",
     "output_type": "stream",
     "text": [
      "LOCAL_RANK: 0 - CUDA_VISIBLE_DEVICES: [0]\n"
     ]
    },
    {
     "data": {
      "application/vnd.jupyter.widget-view+json": {
       "model_id": "7d63e1a18a25407baaa6554a08da0b43",
       "version_major": 2,
       "version_minor": 0
      },
      "text/plain": [
       "Testing: 0it [00:00, ?it/s]"
      ]
     },
     "metadata": {},
     "output_type": "display_data"
    },
    {
     "name": "stdout",
     "output_type": "stream",
     "text": [
      "────────────────────────────────────────────────────────────────────────────────────────────────────────────────────────\r\n",
      "       Test metric             DataLoader 0\r\n",
      "────────────────────────────────────────────────────────────────────────────────────────────────────────────────────────\r\n",
      "        test_acc            0.8144000172615051\r\n",
      "        test_loss           0.9494243860244751\r\n",
      "────────────────────────────────────────────────────────────────────────────────────────────────────────────────────────\n"
     ]
    },
    {
     "data": {
      "text/plain": [
       "[{'test_loss': 0.9494243860244751, 'test_acc': 0.8144000172615051}]"
      ]
     },
     "execution_count": 143,
     "metadata": {},
     "output_type": "execute_result"
    }
   ],
   "source": [
    "trainer.test(model,test_loader)"
   ]
  },
  {
   "cell_type": "code",
   "execution_count": 144,
   "id": "01e81284",
   "metadata": {},
   "outputs": [],
   "source": [
    "torch_model = model.model\n",
    "save_path = \"saved_models/torch2tf/CifarResnet18.pth\"\n",
    "torch.save(torch_model.state_dict(),save_path)"
   ]
  },
  {
   "cell_type": "code",
   "execution_count": 347,
   "id": "90f2ed9f",
   "metadata": {},
   "outputs": [
    {
     "name": "stdout",
     "output_type": "stream",
     "text": [
      "accuracy:0.8144000172615051\n"
     ]
    }
   ],
   "source": [
    "# check if saved model is correct\n",
    "load_path = \"saved_models/torch2tf/CifarResnet18.pth\"\n",
    "model2 = LitCifarResnet().model\n",
    "model2.load_state_dict(torch.load(load_path))\n",
    "model2.eval()\n",
    "model2=model2.to(device)\n",
    "_all=0\n",
    "_correct=0\n",
    "for imgs,labels in test_loader:\n",
    "    pred = torch.argmax(model2(imgs.to(device)),axis=1).to(\"cpu\")\n",
    "    _all+=len(labels)\n",
    "    _correct+=(pred==labels).sum()\n",
    "print(f\"accuracy:{_correct/_all}\")\n"
   ]
  },
  {
   "cell_type": "markdown",
   "id": "0133c797",
   "metadata": {},
   "source": [
    "# step 3 convert pytorch model to onnx model"
   ]
  },
  {
   "cell_type": "code",
   "execution_count": 412,
   "id": "85d02e56",
   "metadata": {},
   "outputs": [],
   "source": [
    "dummy_input = torch.randn(1,3,32,32,device=\"cuda\")\n",
    "save_path = \"saved_models/torch2tf/CifarResnet18.onnx\"\n",
    "\n",
    "torch.onnx.export(model2,\n",
    "                  dummy_input,\n",
    "                  save_path,\n",
    "                  input_names=[\"input\"],\n",
    "                  output_names=[\"output\"],\n",
    "                  dynamic_axes={'input':{0:'batch_size'}})\n"
   ]
  },
  {
   "cell_type": "markdown",
   "id": "5fbdc57c",
   "metadata": {},
   "source": [
    "# step 4 convert onnx model to tf model test accuracy and save model"
   ]
  },
  {
   "cell_type": "code",
   "execution_count": 413,
   "id": "36919c0a",
   "metadata": {},
   "outputs": [],
   "source": [
    "load_path = \"saved_models/torch2tf/CifarResnet18.onnx\"\n",
    "onnx_model = onnx.load(load_path)\n",
    "tf_rep = prepare(onnx_model)"
   ]
  },
  {
   "cell_type": "code",
   "execution_count": 414,
   "id": "19d12145",
   "metadata": {},
   "outputs": [
    {
     "name": "stdout",
     "output_type": "stream",
     "text": [
      "accuracy:0.8144\n"
     ]
    }
   ],
   "source": [
    "_all=0\n",
    "_correct=0\n",
    "for imgs,labels in test_loader:\n",
    "    pred = np.argmax(tf_rep.run(imgs)[0],axis=1)\n",
    "    _all+=len(labels)\n",
    "    _correct+=(pred==labels.numpy()).sum()\n",
    "print(f\"accuracy:{_correct/_all}\")\n"
   ]
  },
  {
   "cell_type": "code",
   "execution_count": 415,
   "id": "4680b3c8",
   "metadata": {},
   "outputs": [
    {
     "name": "stderr",
     "output_type": "stream",
     "text": [
      "WARNING:absl:Found untraced functions such as gen_tensor_dict while saving (showing 1 of 1). These functions will not be directly callable after loading.\n"
     ]
    },
    {
     "name": "stdout",
     "output_type": "stream",
     "text": [
      "INFO:tensorflow:Assets written to: saved_models/torch2tf/CifarResnet18\\assets\n"
     ]
    },
    {
     "name": "stderr",
     "output_type": "stream",
     "text": [
      "INFO:tensorflow:Assets written to: saved_models/torch2tf/CifarResnet18\\assets\n"
     ]
    }
   ],
   "source": [
    "save_path = \"saved_models/torch2tf/CifarResnet18\"\n",
    "tf_rep.export_graph(save_path)"
   ]
  },
  {
   "cell_type": "markdown",
   "id": "804b35f8",
   "metadata": {},
   "source": [
    "# step 5 load tf model and test accuracy"
   ]
  },
  {
   "cell_type": "code",
   "execution_count": 416,
   "id": "b4e6e56a",
   "metadata": {},
   "outputs": [],
   "source": [
    "load_path = \"saved_models/torch2tf/CifarResnet18\"\n",
    "loaded=tf.saved_model.load(load_path)"
   ]
  },
  {
   "cell_type": "code",
   "execution_count": 418,
   "id": "7a0fd481",
   "metadata": {},
   "outputs": [
    {
     "name": "stdout",
     "output_type": "stream",
     "text": [
      "['serving_default']\n"
     ]
    }
   ],
   "source": [
    "print(list(loaded.signatures.keys())) \n",
    "infer = loaded.signatures[\"serving_default\"]\n",
    "key=list(infer.structured_outputs.keys())[0]"
   ]
  },
  {
   "cell_type": "code",
   "execution_count": 419,
   "id": "c0b7f76c",
   "metadata": {},
   "outputs": [
    {
     "name": "stdout",
     "output_type": "stream",
     "text": [
      "accuracy:0.8144\n"
     ]
    }
   ],
   "source": [
    "_all=0\n",
    "_correct=0\n",
    "for imgs,labels in test_loader:\n",
    "    out = infer(**{'input': imgs})\n",
    "    pred = np.argmax(out[key],axis=1)\n",
    "    _all+=len(labels)\n",
    "    _correct+=(pred==labels.numpy()).sum()\n",
    "print(f\"accuracy:{_correct/_all}\")"
   ]
  },
  {
   "cell_type": "code",
   "execution_count": 420,
   "id": "51892644",
   "metadata": {},
   "outputs": [
    {
     "name": "stdout",
     "output_type": "stream",
     "text": [
      "[[-6.654736  -7.450909  -4.149689  -2.9547741 -2.7491271  1.6382511\n",
      "  -8.316099  10.531688  -8.481063  -4.960392 ]]\n",
      "[[-6.654734  -7.450907  -4.1496887 -2.9547796 -2.749123   1.638253\n",
      "  -8.316097  10.531686  -8.481064  -4.96039  ]]\n"
     ]
    }
   ],
   "source": [
    "# additional test one single sample if they produce same result\n",
    "test_img=imgs[0].unsqueeze(0)\n",
    "model2.eval()\n",
    "out1=model2(test_img.to(device)).cpu()\n",
    "out2=infer(**{'input': test_img})[key]\n",
    "print(out1.detach().numpy())\n",
    "print(out2.numpy())"
   ]
  },
  {
   "cell_type": "code",
   "execution_count": null,
   "id": "0288b1bf",
   "metadata": {},
   "outputs": [],
   "source": []
  },
  {
   "cell_type": "code",
   "execution_count": 41,
   "id": "fcfddcaf",
   "metadata": {},
   "outputs": [
    {
     "name": "stdout",
     "output_type": "stream",
     "text": [
      "Downloading data from https://www.cs.toronto.edu/~kriz/cifar-10-python.tar.gz\n",
      "170498071/170498071 [==============================] - 9s 0us/step\n"
     ]
    }
   ],
   "source": [
    "# laod dataset. It is checked that this dataset is the same as the one download from pytorch\n",
    "# stored under C:\\Users\\My_User_Name\\.keras\\datasets \n",
    "(x_train, y_train), (x_test, y_test) = tf.keras.datasets.cifar10.load_data()"
   ]
  }
 ],
 "metadata": {
  "kernelspec": {
   "display_name": "Python 3",
   "language": "python",
   "name": "python3"
  },
  "language_info": {
   "codemirror_mode": {
    "name": "ipython",
    "version": 3
   },
   "file_extension": ".py",
   "mimetype": "text/x-python",
   "name": "python",
   "nbconvert_exporter": "python",
   "pygments_lexer": "ipython3",
   "version": "3.9.13"
  }
 },
 "nbformat": 4,
 "nbformat_minor": 5
}
